{
 "cells": [
  {
   "cell_type": "markdown",
   "id": "252abb39",
   "metadata": {},
   "source": [
    "<h1 align=\"center\"> The Framework to calculate Richness v2 "
   ]
  },
  {
   "cell_type": "markdown",
   "id": "32eaa678",
   "metadata": {},
   "source": [
    "<center>\n",
    "<img src=\"./static/framework0.png\">\n",
    "</center>\n"
   ]
  },
  {
   "cell_type": "markdown",
   "id": "1a154ff9",
   "metadata": {},
   "source": []
  },
  {
   "cell_type": "code",
   "execution_count": 1,
   "id": "028b3b27",
   "metadata": {},
   "outputs": [],
   "source": [
    "import pandas as pd\n",
    "import numpy as np\n",
    "import math,os,sys\n",
    "\n",
    "import seaborn as sns\n",
    "import matplotlib.pyplot as plt\n",
    "\n",
    "sns.set_style(style= 'darkgrid')\n",
    "%matplotlib inline"
   ]
  },
  {
   "cell_type": "code",
   "execution_count": 2,
   "id": "142d7b9f",
   "metadata": {},
   "outputs": [],
   "source": [
    "CSV_PATH = r\"\"\"C:\\Users\\M1049231\\Downloads\\UCI_Credit_Card.csv\"\"\""
   ]
  },
  {
   "cell_type": "code",
   "execution_count": 3,
   "id": "b6ab157b",
   "metadata": {},
   "outputs": [],
   "source": [
    "raw = pd.read_csv(CSV_PATH)"
   ]
  },
  {
   "cell_type": "markdown",
   "id": "e43811e9",
   "metadata": {},
   "source": [
    "<p style=\"color:red;\">Columns in the dataset </p>\n",
    "<hr>\n",
    "<p style=\"color:gray;\">'ID', 'LIMIT_BAL', 'SEX', 'EDUCATION', 'MARRIAGE', 'AGE', </p> \n",
    "<p style=\"color:gray;\">'PAY_0',\n",
    "       'PAY_2', 'PAY_3', 'PAY_4', 'PAY_5', 'PAY_6',  </p>\n",
    "<p style=\"color:gray;\">'BILL_AMT1',\n",
    "       'BILL_AMT2', 'BILL_AMT3', 'BILL_AMT4', 'BILL_AMT5', 'BILL_AMT6', </p>\n",
    "<p style=\"color:gray;\">'PAY_AMT1', 'PAY_AMT2', 'PAY_AMT3', 'PAY_AMT4', 'PAY_AMT5',\n",
    "       'PAY_AMT6',  </p>\n",
    "<p style=\"color:gray;\">'default.payment.next.month'</p>\n"
   ]
  },
  {
   "cell_type": "raw",
   "id": "c4e63457",
   "metadata": {},
   "source": []
  },
  {
   "cell_type": "code",
   "execution_count": 4,
   "id": "819aae62",
   "metadata": {},
   "outputs": [],
   "source": [
    "\"\"\"DEPRICATED: 23/ 25 columns will be used as features in an idea scenario\"\"\"\n",
    "# FEAT_COLUMNS = list(raw.columns.values)[1:-1] \n",
    "\n",
    "\"\"\"the Target variable\"\"\"\n",
    "TARGET_COLUMN = list(raw.columns.values)[-1]\n",
    "\n",
    "\"\"\"Financial data\"\"\"\n",
    "FEAT_COLUMN = list(raw.columns.values)[12:-1] \n",
    "\n",
    "\"\"\"Initialize feature importance of various features in FEAT_COLUMN\"\"\"\n",
    "FEAT_WEIGHT_MAP = {col:1/len(FEAT_COLUMN) for col in FEAT_COLUMN}"
   ]
  },
  {
   "cell_type": "code",
   "execution_count": 5,
   "id": "e3c07715",
   "metadata": {},
   "outputs": [],
   "source": [
    "from functools import wraps\n",
    "from time import time\n",
    "\n",
    "def timing(f):\n",
    "    @wraps(f)\n",
    "    def wrap(*args, **kw):\n",
    "        ts = time()\n",
    "        result = f(*args, **kw)\n",
    "        te = time()\n",
    "        print(f'func: {f.__name__} took: {te-ts} sec')\n",
    "        return result\n",
    "    return wrap"
   ]
  },
  {
   "cell_type": "code",
   "execution_count": null,
   "id": "f598c198",
   "metadata": {},
   "outputs": [],
   "source": []
  },
  {
   "cell_type": "code",
   "execution_count": 6,
   "id": "4ce7f90e",
   "metadata": {
    "scrolled": false
   },
   "outputs": [
    {
     "data": {
      "text/html": [
       "<div>\n",
       "<style scoped>\n",
       "    .dataframe tbody tr th:only-of-type {\n",
       "        vertical-align: middle;\n",
       "    }\n",
       "\n",
       "    .dataframe tbody tr th {\n",
       "        vertical-align: top;\n",
       "    }\n",
       "\n",
       "    .dataframe thead th {\n",
       "        text-align: right;\n",
       "    }\n",
       "</style>\n",
       "<table border=\"1\" class=\"dataframe\">\n",
       "  <thead>\n",
       "    <tr style=\"text-align: right;\">\n",
       "      <th></th>\n",
       "      <th>ID</th>\n",
       "      <th>LIMIT_BAL</th>\n",
       "      <th>SEX</th>\n",
       "      <th>EDUCATION</th>\n",
       "      <th>MARRIAGE</th>\n",
       "      <th>AGE</th>\n",
       "      <th>PAY_0</th>\n",
       "      <th>PAY_2</th>\n",
       "      <th>PAY_3</th>\n",
       "      <th>PAY_4</th>\n",
       "      <th>...</th>\n",
       "      <th>BILL_AMT4</th>\n",
       "      <th>BILL_AMT5</th>\n",
       "      <th>BILL_AMT6</th>\n",
       "      <th>PAY_AMT1</th>\n",
       "      <th>PAY_AMT2</th>\n",
       "      <th>PAY_AMT3</th>\n",
       "      <th>PAY_AMT4</th>\n",
       "      <th>PAY_AMT5</th>\n",
       "      <th>PAY_AMT6</th>\n",
       "      <th>default.payment.next.month</th>\n",
       "    </tr>\n",
       "  </thead>\n",
       "  <tbody>\n",
       "    <tr>\n",
       "      <th>0</th>\n",
       "      <td>1</td>\n",
       "      <td>20000.0</td>\n",
       "      <td>2</td>\n",
       "      <td>2</td>\n",
       "      <td>1</td>\n",
       "      <td>24</td>\n",
       "      <td>2</td>\n",
       "      <td>2</td>\n",
       "      <td>-1</td>\n",
       "      <td>-1</td>\n",
       "      <td>...</td>\n",
       "      <td>0.0</td>\n",
       "      <td>0.0</td>\n",
       "      <td>0.0</td>\n",
       "      <td>0.0</td>\n",
       "      <td>689.0</td>\n",
       "      <td>0.0</td>\n",
       "      <td>0.0</td>\n",
       "      <td>0.0</td>\n",
       "      <td>0.0</td>\n",
       "      <td>1</td>\n",
       "    </tr>\n",
       "    <tr>\n",
       "      <th>1</th>\n",
       "      <td>2</td>\n",
       "      <td>120000.0</td>\n",
       "      <td>2</td>\n",
       "      <td>2</td>\n",
       "      <td>2</td>\n",
       "      <td>26</td>\n",
       "      <td>-1</td>\n",
       "      <td>2</td>\n",
       "      <td>0</td>\n",
       "      <td>0</td>\n",
       "      <td>...</td>\n",
       "      <td>3272.0</td>\n",
       "      <td>3455.0</td>\n",
       "      <td>3261.0</td>\n",
       "      <td>0.0</td>\n",
       "      <td>1000.0</td>\n",
       "      <td>1000.0</td>\n",
       "      <td>1000.0</td>\n",
       "      <td>0.0</td>\n",
       "      <td>2000.0</td>\n",
       "      <td>1</td>\n",
       "    </tr>\n",
       "    <tr>\n",
       "      <th>2</th>\n",
       "      <td>3</td>\n",
       "      <td>90000.0</td>\n",
       "      <td>2</td>\n",
       "      <td>2</td>\n",
       "      <td>2</td>\n",
       "      <td>34</td>\n",
       "      <td>0</td>\n",
       "      <td>0</td>\n",
       "      <td>0</td>\n",
       "      <td>0</td>\n",
       "      <td>...</td>\n",
       "      <td>14331.0</td>\n",
       "      <td>14948.0</td>\n",
       "      <td>15549.0</td>\n",
       "      <td>1518.0</td>\n",
       "      <td>1500.0</td>\n",
       "      <td>1000.0</td>\n",
       "      <td>1000.0</td>\n",
       "      <td>1000.0</td>\n",
       "      <td>5000.0</td>\n",
       "      <td>0</td>\n",
       "    </tr>\n",
       "    <tr>\n",
       "      <th>3</th>\n",
       "      <td>4</td>\n",
       "      <td>50000.0</td>\n",
       "      <td>2</td>\n",
       "      <td>2</td>\n",
       "      <td>1</td>\n",
       "      <td>37</td>\n",
       "      <td>0</td>\n",
       "      <td>0</td>\n",
       "      <td>0</td>\n",
       "      <td>0</td>\n",
       "      <td>...</td>\n",
       "      <td>28314.0</td>\n",
       "      <td>28959.0</td>\n",
       "      <td>29547.0</td>\n",
       "      <td>2000.0</td>\n",
       "      <td>2019.0</td>\n",
       "      <td>1200.0</td>\n",
       "      <td>1100.0</td>\n",
       "      <td>1069.0</td>\n",
       "      <td>1000.0</td>\n",
       "      <td>0</td>\n",
       "    </tr>\n",
       "    <tr>\n",
       "      <th>4</th>\n",
       "      <td>5</td>\n",
       "      <td>50000.0</td>\n",
       "      <td>1</td>\n",
       "      <td>2</td>\n",
       "      <td>1</td>\n",
       "      <td>57</td>\n",
       "      <td>-1</td>\n",
       "      <td>0</td>\n",
       "      <td>-1</td>\n",
       "      <td>0</td>\n",
       "      <td>...</td>\n",
       "      <td>20940.0</td>\n",
       "      <td>19146.0</td>\n",
       "      <td>19131.0</td>\n",
       "      <td>2000.0</td>\n",
       "      <td>36681.0</td>\n",
       "      <td>10000.0</td>\n",
       "      <td>9000.0</td>\n",
       "      <td>689.0</td>\n",
       "      <td>679.0</td>\n",
       "      <td>0</td>\n",
       "    </tr>\n",
       "  </tbody>\n",
       "</table>\n",
       "<p>5 rows × 25 columns</p>\n",
       "</div>"
      ],
      "text/plain": [
       "   ID  LIMIT_BAL  SEX  EDUCATION  MARRIAGE  AGE  PAY_0  PAY_2  PAY_3  PAY_4  \\\n",
       "0   1    20000.0    2          2         1   24      2      2     -1     -1   \n",
       "1   2   120000.0    2          2         2   26     -1      2      0      0   \n",
       "2   3    90000.0    2          2         2   34      0      0      0      0   \n",
       "3   4    50000.0    2          2         1   37      0      0      0      0   \n",
       "4   5    50000.0    1          2         1   57     -1      0     -1      0   \n",
       "\n",
       "   ...  BILL_AMT4  BILL_AMT5  BILL_AMT6  PAY_AMT1  PAY_AMT2  PAY_AMT3  \\\n",
       "0  ...        0.0        0.0        0.0       0.0     689.0       0.0   \n",
       "1  ...     3272.0     3455.0     3261.0       0.0    1000.0    1000.0   \n",
       "2  ...    14331.0    14948.0    15549.0    1518.0    1500.0    1000.0   \n",
       "3  ...    28314.0    28959.0    29547.0    2000.0    2019.0    1200.0   \n",
       "4  ...    20940.0    19146.0    19131.0    2000.0   36681.0   10000.0   \n",
       "\n",
       "   PAY_AMT4  PAY_AMT5  PAY_AMT6  default.payment.next.month  \n",
       "0       0.0       0.0       0.0                           1  \n",
       "1    1000.0       0.0    2000.0                           1  \n",
       "2    1000.0    1000.0    5000.0                           0  \n",
       "3    1100.0    1069.0    1000.0                           0  \n",
       "4    9000.0     689.0     679.0                           0  \n",
       "\n",
       "[5 rows x 25 columns]"
      ]
     },
     "execution_count": 6,
     "metadata": {},
     "output_type": "execute_result"
    }
   ],
   "source": [
    "raw.head(5)"
   ]
  },
  {
   "cell_type": "code",
   "execution_count": 7,
   "id": "a1f833eb",
   "metadata": {},
   "outputs": [],
   "source": [
    "def get_ssn(n:int, indv:int=10000):\n",
    "    \"\"\"Random generation of SSN in the range 1 to indv individuals \"\"\"\n",
    "    \n",
    "    print(f\"the ratio of indv to population is : {indv/n}\")\n",
    "    print(f\"the ratio of population to  indv is : {n/indv}\")\n",
    "    return [np.random.randint(1,(indv+1)) for i in range(n)]"
   ]
  },
  {
   "cell_type": "code",
   "execution_count": 8,
   "id": "5a8b0220",
   "metadata": {},
   "outputs": [
    {
     "name": "stdout",
     "output_type": "stream",
     "text": [
      "the ratio of indv to population is : 0.43333333333333335\n",
      "the ratio of population to  indv is : 2.3076923076923075\n"
     ]
    }
   ],
   "source": [
    "if 'SSN' in raw.columns:\n",
    "    if input('do you want to delete SSN columns (y/n): ') == 'y':\n",
    "        raw.drop('SSN',axis = 1, inplace = True)\n",
    "\n",
    "raw.insert(0,'SSN', get_ssn(n= len(raw), indv = 13000))"
   ]
  },
  {
   "cell_type": "code",
   "execution_count": 9,
   "id": "80f725d0",
   "metadata": {},
   "outputs": [
    {
     "data": {
      "text/plain": [
       "<seaborn.axisgrid.FacetGrid at 0x2b89fbb0df0>"
      ]
     },
     "execution_count": 9,
     "metadata": {},
     "output_type": "execute_result"
    },
    {
     "data": {
      "image/png": "[encoded data removed]",
      "text/plain": [
       "<Figure size 720x360 with 1 Axes>"
      ]
     },
     "metadata": {
      "needs_background": "light"
     },
     "output_type": "display_data"
    }
   ],
   "source": [
    "\"\"\"having a look at the new distribution of SSIDs. Now we have duplicate ssids which means one-to-many \n",
    "mapping between individual and no. active credit cards. we also notice that the there are 2466 individuals with \n",
    "1 card and ~3k with 2 cards. these categories represent the thin files in our dataset \"\"\"\n",
    "\n",
    "counsdf = raw.groupby('SSN').size()\n",
    "g = sns.displot(counsdf , kind = 'hist', height = 5, aspect = 2)\n",
    "g.set_axis_labels(\"No of Credit cards\", \"No. of individuals\")"
   ]
  },
  {
   "cell_type": "code",
   "execution_count": null,
   "id": "3291ff8f",
   "metadata": {},
   "outputs": [],
   "source": []
  },
  {
   "cell_type": "markdown",
   "id": "a8688d80",
   "metadata": {},
   "source": [
    "<h3> Calculating the richness of each datapoint"
   ]
  },
  {
   "cell_type": "code",
   "execution_count": null,
   "id": "2e359257",
   "metadata": {},
   "outputs": [],
   "source": []
  },
  {
   "cell_type": "code",
   "execution_count": 10,
   "id": "09a776ea",
   "metadata": {},
   "outputs": [],
   "source": [
    "def _row_richness(df, FEAT_COLUMN):\n",
    "    \"\"\"This funtion helps us assign richness to each data point in the a dataset FEAT_COLUMN \n",
    "    represents the Columns that impact our score the most, Future updates can include weights \n",
    "    illustrating the  importance of the \"\"\"\n",
    "    \n",
    "    full_health = len(FEAT_COLUMN)\n",
    "    health = sum(df[FEAT_COLUMN].values != 0)\n",
    "    return(health/full_health)                          \n",
    "    \n",
    "def new_row_richness(df, FEAT_WEIGHT_MAP:dict):\n",
    "    \"\"\"This funtion helps us assign richness to each data point in the a dataset FEAT_COLUMN \n",
    "    represents the Columns that impact our score the most, Future updates can include weights \n",
    "    illustrating the  importance of the \"\"\"\n",
    "    \n",
    "    magnitude = 0\n",
    "    for col in list(FEAT_WEIGHT_MAP.keys()):\n",
    "        if df[col]!=0:\n",
    "            magnitude += FEAT_WEIGHT_MAP[col]\n",
    "\n",
    "    return magnitude.__round__(2)"
   ]
  },
  {
   "cell_type": "code",
   "execution_count": null,
   "id": "e7f620cf",
   "metadata": {},
   "outputs": [],
   "source": []
  },
  {
   "cell_type": "code",
   "execution_count": null,
   "id": "10483aa2",
   "metadata": {},
   "outputs": [],
   "source": []
  },
  {
   "cell_type": "code",
   "execution_count": null,
   "id": "ec22e9b5",
   "metadata": {},
   "outputs": [],
   "source": []
  },
  {
   "cell_type": "code",
   "execution_count": null,
   "id": "151eeded",
   "metadata": {
    "tags": []
   },
   "outputs": [],
   "source": []
  },
  {
   "cell_type": "code",
   "execution_count": null,
   "id": "cf2aea32",
   "metadata": {},
   "outputs": [],
   "source": []
  },
  {
   "cell_type": "code",
   "execution_count": 15,
   "id": "82032065",
   "metadata": {},
   "outputs": [
    {
     "name": "stdout",
     "output_type": "stream",
     "text": [
      "removed richness column, populating now...\n"
     ]
    }
   ],
   "source": [
    "if 'richness' in raw.columns:\n",
    "    print(\"removed richness column, populating now...\")\n",
    "    raw.drop('richness',axis = 1, inplace = True)\n",
    "# raw.insert(1,'richness', raw.apply(_row_richness,FEAT_WEIGHT_MAP=FEAT_WEIGHT_MAP ,axis = 1))\n",
    "raw.insert(1,'richness', raw.apply(_row_richness,FEAT_COLUMN=FEAT_COLUMN ,axis = 1))"
   ]
  },
  {
   "cell_type": "code",
   "execution_count": 16,
   "id": "525444e5",
   "metadata": {},
   "outputs": [
    {
     "name": "stdout",
     "output_type": "stream",
     "text": [
      "number of slim file SSN's : 2919\n",
      "number of slim files found : 2919\n"
     ]
    }
   ],
   "source": [
    "def _ssn_slim_file(counsdf, slimness:int = 1):\n",
    "    li = (counsdf[counsdf.values==slimness]).index.tolist()\n",
    "    return li\n",
    "\n",
    "SSN_SLIM_FILE = _ssn_slim_file(counsdf)\n",
    "print(f\"number of slim file SSN\\'s : {len(SSN_SLIM_FILE)}\")\n",
    "slim_file_df = raw[raw['SSN'].isin(SSN_SLIM_FILE)]\n",
    "print(f\"number of slim files found : {len(slim_file_df)}\")\n",
    "assert len(SSN_SLIM_FILE) == len(slim_file_df), \"check the value counts\""
   ]
  },
  {
   "cell_type": "code",
   "execution_count": 17,
   "id": "f5c13e19",
   "metadata": {},
   "outputs": [
    {
     "data": {
      "text/plain": [
       "<seaborn.axisgrid.FacetGrid at 0x2b8a0068850>"
      ]
     },
     "execution_count": 17,
     "metadata": {},
     "output_type": "execute_result"
    },
    {
     "data": {
      "image/png": "[encoded data removed]",
      "text/plain": [
       "<Figure size 720x360 with 1 Axes>"
      ]
     },
     "metadata": {
      "needs_background": "light"
     },
     "output_type": "display_data"
    }
   ],
   "source": [
    "\"\"\"Having a look at the richness of out slim files to identify a cut of that might help\n",
    "in identifying any thin files in the dataset !! ['hist', 'kde', 'ecdf'] \"\"\"\n",
    "\n",
    "g = sns.displot(slim_file_df['richness'] , kind = 'hist', height = 5, aspect = 2, kde = True)\n",
    "g.set_axis_labels(\"Richness\", \"Population\")"
   ]
  },
  {
   "cell_type": "code",
   "execution_count": 18,
   "id": "cd64f8ec",
   "metadata": {},
   "outputs": [
    {
     "name": "stdout",
     "output_type": "stream",
     "text": [
      "Files with richness less than 50% :264\n"
     ]
    }
   ],
   "source": [
    "print(f\"Files with richness less than 50% :{slim_file_df[slim_file_df['richness'] <0.5].shape[0]}\")"
   ]
  },
  {
   "cell_type": "markdown",
   "id": "e8445d26",
   "metadata": {},
   "source": [
    "<h3 style=\"color:Green\"> Having a look at the richness of the whole population"
   ]
  },
  {
   "cell_type": "code",
   "execution_count": 19,
   "id": "0b798eff",
   "metadata": {},
   "outputs": [
    {
     "data": {
      "text/plain": [
       "Index(['SSN', 'richness', 'ID', 'LIMIT_BAL', 'SEX', 'EDUCATION', 'MARRIAGE',\n",
       "       'AGE', 'PAY_0', 'PAY_2', 'PAY_3', 'PAY_4', 'PAY_5', 'PAY_6',\n",
       "       'BILL_AMT1', 'BILL_AMT2', 'BILL_AMT3', 'BILL_AMT4', 'BILL_AMT5',\n",
       "       'BILL_AMT6', 'PAY_AMT1', 'PAY_AMT2', 'PAY_AMT3', 'PAY_AMT4', 'PAY_AMT5',\n",
       "       'PAY_AMT6', 'default.payment.next.month'],\n",
       "      dtype='object')"
      ]
     },
     "execution_count": 19,
     "metadata": {},
     "output_type": "execute_result"
    }
   ],
   "source": [
    "raw.columns"
   ]
  },
  {
   "cell_type": "code",
   "execution_count": 20,
   "id": "ade37d3c",
   "metadata": {},
   "outputs": [
    {
     "data": {
      "text/plain": [
       "<seaborn.axisgrid.FacetGrid at 0x2b89fc7d640>"
      ]
     },
     "execution_count": 20,
     "metadata": {},
     "output_type": "execute_result"
    },
    {
     "data": {
      "image/png": "[encoded data removed]",
      "text/plain": [
       "<Figure size 720x360 with 1 Axes>"
      ]
     },
     "metadata": {
      "needs_background": "light"
     },
     "output_type": "display_data"
    }
   ],
   "source": [
    "\"\"\" Individuals with only one credit line is considered for this experiment, but we can also consider individuals for 2 > too\n",
    "which shows that the inactive nature of the multiple lines of credit.\"\"\"\n",
    "\n",
    "raw_richness_map = raw.groupby('SSN')['richness'].mean()\n",
    "sns.displot(raw_richness_map, kind=\"hist\", kde=True, height = 5, aspect = 2)"
   ]
  },
  {
   "cell_type": "code",
   "execution_count": 21,
   "id": "d9b0159e",
   "metadata": {},
   "outputs": [
    {
     "name": "stdout",
     "output_type": "stream",
     "text": [
      "Files with richness less than 50% :  462\n"
     ]
    }
   ],
   "source": [
    "print(f\"Files with richness less than 50% :  {raw_richness_map[raw_richness_map<0.5].shape[0]}\")"
   ]
  },
  {
   "cell_type": "markdown",
   "id": "4f49fd30",
   "metadata": {},
   "source": [
    "<h3 style=\"color:green;\">The alternate data set:"
   ]
  },
  {
   "cell_type": "code",
   "execution_count": 22,
   "id": "bcf10f68",
   "metadata": {},
   "outputs": [],
   "source": [
    "def generate_data_quad(rows):\n",
    "    x_array = []\n",
    "    id = 1\n",
    "    while len(x_array) < rows:\n",
    "        a = float(np.random.randint(-10, 10))\n",
    "        b = float(np.random.randint(-10, 10))\n",
    "        c = float(np.random.randint(-10, 10))\n",
    "        y = [0, 0]\n",
    "\n",
    "        try:\n",
    "            y = [\n",
    "                (-b + math.sqrt((b * b) - (4 * a * c))) / (2 * a),\n",
    "                (-b - math.sqrt((b * b) - (4 * a * c))) / (2 * a)]\n",
    "        except (ValueError, ZeroDivisionError):\n",
    "            pass\n",
    "\n",
    "        x_array.append([id, a, b, c, abs(y[0] - y[1])])\n",
    "        id += 1\n",
    "    return np.array(x_array)"
   ]
  },
  {
   "cell_type": "code",
   "execution_count": 23,
   "id": "c7deb02a",
   "metadata": {},
   "outputs": [],
   "source": [
    "def _add_list_to_df(df:pd.DataFrame,li:list):\n",
    "    \n",
    "    df_ix = len(df)\n",
    "    for row in li:\n",
    "        df.loc[df_ix] = row\n",
    "        df_ix += 1\n",
    "    \n",
    "    return df"
   ]
  },
  {
   "cell_type": "code",
   "execution_count": null,
   "id": "8ce94d29",
   "metadata": {},
   "outputs": [],
   "source": []
  },
  {
   "cell_type": "code",
   "execution_count": 24,
   "id": "05534f54",
   "metadata": {},
   "outputs": [],
   "source": [
    "x = generate_data_quad(13000)\n",
    "alt_df_raw = pd.DataFrame(columns=['SSN', 'x1', 'x2', 'x3', 'x4'])\n",
    "alt_df_raw = _add_list_to_df(alt_df_raw, x)\n",
    "alt_df_raw.SSN = alt_df_raw.SSN.astype('int32')"
   ]
  },
  {
   "cell_type": "code",
   "execution_count": 25,
   "id": "ee4dd8b5",
   "metadata": {},
   "outputs": [
    {
     "data": {
      "text/html": [
       "<div>\n",
       "<style scoped>\n",
       "    .dataframe tbody tr th:only-of-type {\n",
       "        vertical-align: middle;\n",
       "    }\n",
       "\n",
       "    .dataframe tbody tr th {\n",
       "        vertical-align: top;\n",
       "    }\n",
       "\n",
       "    .dataframe thead th {\n",
       "        text-align: right;\n",
       "    }\n",
       "</style>\n",
       "<table border=\"1\" class=\"dataframe\">\n",
       "  <thead>\n",
       "    <tr style=\"text-align: right;\">\n",
       "      <th></th>\n",
       "      <th>SSN</th>\n",
       "      <th>x1</th>\n",
       "      <th>x2</th>\n",
       "      <th>x3</th>\n",
       "      <th>x4</th>\n",
       "    </tr>\n",
       "  </thead>\n",
       "  <tbody>\n",
       "    <tr>\n",
       "      <th>0</th>\n",
       "      <td>1</td>\n",
       "      <td>8.0</td>\n",
       "      <td>-8.0</td>\n",
       "      <td>-6.0</td>\n",
       "      <td>2.000000</td>\n",
       "    </tr>\n",
       "    <tr>\n",
       "      <th>1</th>\n",
       "      <td>2</td>\n",
       "      <td>8.0</td>\n",
       "      <td>-1.0</td>\n",
       "      <td>2.0</td>\n",
       "      <td>0.000000</td>\n",
       "    </tr>\n",
       "    <tr>\n",
       "      <th>2</th>\n",
       "      <td>3</td>\n",
       "      <td>-9.0</td>\n",
       "      <td>6.0</td>\n",
       "      <td>-10.0</td>\n",
       "      <td>0.000000</td>\n",
       "    </tr>\n",
       "    <tr>\n",
       "      <th>3</th>\n",
       "      <td>4</td>\n",
       "      <td>3.0</td>\n",
       "      <td>1.0</td>\n",
       "      <td>-9.0</td>\n",
       "      <td>3.480102</td>\n",
       "    </tr>\n",
       "    <tr>\n",
       "      <th>4</th>\n",
       "      <td>5</td>\n",
       "      <td>-1.0</td>\n",
       "      <td>-2.0</td>\n",
       "      <td>0.0</td>\n",
       "      <td>2.000000</td>\n",
       "    </tr>\n",
       "  </tbody>\n",
       "</table>\n",
       "</div>"
      ],
      "text/plain": [
       "   SSN   x1   x2    x3        x4\n",
       "0    1  8.0 -8.0  -6.0  2.000000\n",
       "1    2  8.0 -1.0   2.0  0.000000\n",
       "2    3 -9.0  6.0 -10.0  0.000000\n",
       "3    4  3.0  1.0  -9.0  3.480102\n",
       "4    5 -1.0 -2.0   0.0  2.000000"
      ]
     },
     "execution_count": 25,
     "metadata": {},
     "output_type": "execute_result"
    }
   ],
   "source": [
    "alt_df_raw.head()"
   ]
  },
  {
   "cell_type": "code",
   "execution_count": null,
   "id": "ced13142",
   "metadata": {},
   "outputs": [],
   "source": []
  },
  {
   "cell_type": "code",
   "execution_count": 26,
   "id": "bf22d730",
   "metadata": {},
   "outputs": [
    {
     "data": {
      "text/plain": [
       "<AxesSubplot:xlabel='x4', ylabel='Density'>"
      ]
     },
     "execution_count": 26,
     "metadata": {},
     "output_type": "execute_result"
    },
    {
     "data": {
      "image/png": "[encoded data removed]",
      "text/plain": [
       "<Figure size 936x504 with 2 Axes>"
      ]
     },
     "metadata": {
      "needs_background": "light"
     },
     "output_type": "display_data"
    }
   ],
   "source": [
    "fig,ax = plt.subplots(1,2,figsize=(13, 7))\n",
    "for i in [ 'x1', 'x2', 'x3']:\n",
    "    sns.kdeplot(alt_df_raw[i], ax = ax[0])\n",
    "sns.kdeplot(alt_df_raw.x4, ax = ax[1])"
   ]
  },
  {
   "cell_type": "code",
   "execution_count": null,
   "id": "6a6aafea",
   "metadata": {},
   "outputs": [],
   "source": []
  },
  {
   "cell_type": "code",
   "execution_count": 27,
   "id": "bb12a9c6",
   "metadata": {},
   "outputs": [],
   "source": [
    "def _induce_null(col:list, df:pd.DataFrame, prob = 10):\n",
    "    for i in range(len(col)):\n",
    "        rand = np.random.randint(0,100)\n",
    "        if rand>prob:\n",
    "            df[col[i]] = 0\n",
    "    return df"
   ]
  },
  {
   "cell_type": "code",
   "execution_count": 28,
   "id": "d64566d9",
   "metadata": {},
   "outputs": [],
   "source": [
    "alt_df_raw.insert(1,'alt_richness', alt_df_raw.apply(_row_richness,FEAT_COLUMN=['x1', 'x2', 'x3', 'x4'] ,axis = 1))"
   ]
  },
  {
   "cell_type": "code",
   "execution_count": 29,
   "id": "706d8282",
   "metadata": {},
   "outputs": [
    {
     "data": {
      "text/html": [
       "<div>\n",
       "<style scoped>\n",
       "    .dataframe tbody tr th:only-of-type {\n",
       "        vertical-align: middle;\n",
       "    }\n",
       "\n",
       "    .dataframe tbody tr th {\n",
       "        vertical-align: top;\n",
       "    }\n",
       "\n",
       "    .dataframe thead th {\n",
       "        text-align: right;\n",
       "    }\n",
       "</style>\n",
       "<table border=\"1\" class=\"dataframe\">\n",
       "  <thead>\n",
       "    <tr style=\"text-align: right;\">\n",
       "      <th></th>\n",
       "      <th>SSN</th>\n",
       "      <th>alt_richness</th>\n",
       "      <th>x1</th>\n",
       "      <th>x2</th>\n",
       "      <th>x3</th>\n",
       "      <th>x4</th>\n",
       "    </tr>\n",
       "  </thead>\n",
       "  <tbody>\n",
       "    <tr>\n",
       "      <th>0</th>\n",
       "      <td>1</td>\n",
       "      <td>1.00</td>\n",
       "      <td>8.0</td>\n",
       "      <td>-8.0</td>\n",
       "      <td>-6.0</td>\n",
       "      <td>2.000000</td>\n",
       "    </tr>\n",
       "    <tr>\n",
       "      <th>1</th>\n",
       "      <td>2</td>\n",
       "      <td>0.75</td>\n",
       "      <td>8.0</td>\n",
       "      <td>-1.0</td>\n",
       "      <td>2.0</td>\n",
       "      <td>0.000000</td>\n",
       "    </tr>\n",
       "    <tr>\n",
       "      <th>2</th>\n",
       "      <td>3</td>\n",
       "      <td>0.75</td>\n",
       "      <td>-9.0</td>\n",
       "      <td>6.0</td>\n",
       "      <td>-10.0</td>\n",
       "      <td>0.000000</td>\n",
       "    </tr>\n",
       "    <tr>\n",
       "      <th>3</th>\n",
       "      <td>4</td>\n",
       "      <td>1.00</td>\n",
       "      <td>3.0</td>\n",
       "      <td>1.0</td>\n",
       "      <td>-9.0</td>\n",
       "      <td>3.480102</td>\n",
       "    </tr>\n",
       "    <tr>\n",
       "      <th>4</th>\n",
       "      <td>5</td>\n",
       "      <td>0.75</td>\n",
       "      <td>-1.0</td>\n",
       "      <td>-2.0</td>\n",
       "      <td>0.0</td>\n",
       "      <td>2.000000</td>\n",
       "    </tr>\n",
       "  </tbody>\n",
       "</table>\n",
       "</div>"
      ],
      "text/plain": [
       "   SSN  alt_richness   x1   x2    x3        x4\n",
       "0    1          1.00  8.0 -8.0  -6.0  2.000000\n",
       "1    2          0.75  8.0 -1.0   2.0  0.000000\n",
       "2    3          0.75 -9.0  6.0 -10.0  0.000000\n",
       "3    4          1.00  3.0  1.0  -9.0  3.480102\n",
       "4    5          0.75 -1.0 -2.0   0.0  2.000000"
      ]
     },
     "execution_count": 29,
     "metadata": {},
     "output_type": "execute_result"
    }
   ],
   "source": [
    "alt_df_raw.head()"
   ]
  },
  {
   "cell_type": "code",
   "execution_count": 30,
   "id": "7f387ca9",
   "metadata": {},
   "outputs": [
    {
     "data": {
      "text/plain": [
       "<seaborn.axisgrid.FacetGrid at 0x2b8a01d2d30>"
      ]
     },
     "execution_count": 30,
     "metadata": {},
     "output_type": "execute_result"
    },
    {
     "data": {
      "image/png": "[encoded data removed]",
      "text/plain": [
       "<Figure size 720x360 with 1 Axes>"
      ]
     },
     "metadata": {
      "needs_background": "light"
     },
     "output_type": "display_data"
    }
   ],
   "source": [
    "alt_ssn_richness = alt_df_raw.groupby('SSN')['alt_richness'].mean()\n",
    "sns.displot(alt_ssn_richness, kind=\"hist\", kde=True,height = 5, aspect = 2)"
   ]
  },
  {
   "cell_type": "code",
   "execution_count": 31,
   "id": "9c889add",
   "metadata": {},
   "outputs": [
    {
     "name": "stdout",
     "output_type": "stream",
     "text": [
      "Files with richness less than 50% :  87\n"
     ]
    }
   ],
   "source": [
    "print(f\"Files with richness less than 50% :  {alt_ssn_richness[alt_ssn_richness<0.5].shape[0]}\")"
   ]
  },
  {
   "cell_type": "code",
   "execution_count": 32,
   "id": "ab2cc30f",
   "metadata": {},
   "outputs": [
    {
     "data": {
      "text/plain": [
       "pandas.core.series.Series"
      ]
     },
     "execution_count": 32,
     "metadata": {},
     "output_type": "execute_result"
    }
   ],
   "source": [
    "type(alt_ssn_richness)"
   ]
  },
  {
   "cell_type": "code",
   "execution_count": 33,
   "id": "f53a0368",
   "metadata": {},
   "outputs": [],
   "source": [
    "from functools import partial"
   ]
  },
  {
   "cell_type": "code",
   "execution_count": 34,
   "id": "de832f2b",
   "metadata": {},
   "outputs": [],
   "source": [
    "def _generate_weighted_richness(df_raw, alt_ssn_map:dict, alt_col:str = \"alt_richness\", raw_col:str = \"richness\", weightage:dict={\"raw\":0.5,\"alt\":0.5}):\n",
    "    # print(df_raw)\n",
    "    # import pdb;pdb.set_trace()\n",
    "    res = alt_ssn_map[df_raw['SSN']]*weightage['alt'] + df_raw[raw_col]*weightage['raw']\n",
    "    return [df_raw['SSN'], df_raw[raw_col], res] #['SSN',\"baseline_richness\",\"new_richness\"]\n",
    "\n",
    "def generate_weighted_richness_wrapper(raw,alt_ssn_richness):\n",
    "    res = []\n",
    "    generate = partial(_generate_weighted_richness, alt_ssn_map=alt_ssn_richness.to_dict())\n",
    "    for i in raw.index:\n",
    "        res.append(generate({'SSN':i,'richness':raw[i]}))\n",
    "    return res\n"
   ]
  },
  {
   "cell_type": "code",
   "execution_count": 35,
   "id": "b9b46467",
   "metadata": {},
   "outputs": [],
   "source": [
    "# raw_richness_map.apply(_generate_weighted_richness, alt_ssn_map = alt_ssn_richness.to_dict())"
   ]
  },
  {
   "cell_type": "code",
   "execution_count": 37,
   "id": "6f66fcc2",
   "metadata": {
    "tags": []
   },
   "outputs": [],
   "source": [
    "_ = generate_weighted_richness_wrapper(raw = raw_richness_map, alt_ssn_richness=alt_ssn_richness)\n",
    "merged_richness = pd.DataFrame(_, columns= ['SSN',\"baseline_richness\",\"new_richness\"])\n"
   ]
  },
  {
   "cell_type": "code",
   "execution_count": 38,
   "id": "b86de7d8",
   "metadata": {},
   "outputs": [
    {
     "data": {
      "text/plain": [
       "<AxesSubplot:xlabel='new_richness', ylabel='Density'>"
      ]
     },
     "execution_count": 38,
     "metadata": {},
     "output_type": "execute_result"
    },
    {
     "data": {
      "image/png": "[encoded data removed]",
      "text/plain": [
       "<Figure size 936x504 with 1 Axes>"
      ]
     },
     "metadata": {
      "needs_background": "light"
     },
     "output_type": "display_data"
    }
   ],
   "source": [
    "fig,ax = plt.subplots(figsize=(13, 7))\n",
    "sns.kdeplot(merged_richness[\"new_richness\"], ax = ax)\n",
    "sns.kdeplot(merged_richness[\"baseline_richness\"], ax = ax)"
   ]
  },
  {
   "cell_type": "code",
   "execution_count": 39,
   "id": "8639f30f",
   "metadata": {},
   "outputs": [
    {
     "name": "stdout",
     "output_type": "stream",
     "text": [
      "Files with BASELINE richness less than 50% :  462\n",
      "Files in MERGED dataset with richness less than 50% :114\n"
     ]
    }
   ],
   "source": [
    "print(f\"Files with BASELINE richness less than 50% :  {raw_richness_map[raw_richness_map<0.5].shape[0]}\")\n",
    "print(f\"Files in MERGED dataset with richness less than 50% :{merged_richness[merged_richness['new_richness'] <0.5].shape[0]}\")"
   ]
  }
 ],
 "metadata": {
  "interpreter": {
   "hash": "db954a3dfd3e2d6d0f27bd3bcb2986fe8f335d9177c092fd9f93a298a3366a1b"
  },
  "kernelspec": {
   "display_name": "Python 3",
   "language": "python",
   "name": "python3"
  },
  "language_info": {
   "codemirror_mode": {
    "name": "ipython",
    "version": 3
   },
   "file_extension": ".py",
   "mimetype": "text/x-python",
   "name": "python",
   "nbconvert_exporter": "python",
   "pygments_lexer": "ipython3",
   "version": "3.9.5"
  }
 },
 "nbformat": 4,
 "nbformat_minor": 5
}